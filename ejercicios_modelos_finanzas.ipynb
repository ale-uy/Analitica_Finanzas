{
 "cells": [
  {
   "attachments": {},
   "cell_type": "markdown",
   "metadata": {},
   "source": [
    "# Modelos de clasificación aplicados a negociaciones y medias de desempeño de las estrategias"
   ]
  },
  {
   "cell_type": "code",
   "execution_count": 1,
   "metadata": {},
   "outputs": [],
   "source": [
    "# Funciones numéricas adicionales \n",
    "import numpy as np \n",
    "# Lectura de datos y manejo de Data-sets \n",
    "import pandas as pd \n",
    "# Datos \n",
    "import yfinance as yfin \n",
    "# Gráficos  \n",
    "import matplotlib.pyplot as plt \n",
    "# Análisis Técnico \n",
    "import ta \n",
    "# Funciones  \n",
    "from sklearn.model_selection import train_test_split \n",
    "from sklearn.preprocessing import StandardScaler \n",
    "# Medidas de desempeño \n",
    "from sklearn.metrics import RocCurveDisplay \n",
    "# Support Vector Machine (SVM) / Support Vector Classification (SVC) \n",
    "from sklearn.svm import SVC \n",
    "# Random Forest Classifier \n",
    "from sklearn.ensemble import RandomForestClassifier \n",
    "# Redes Neuronales / Multi-layer Perceptron (MLP)  \n",
    "from sklearn.neural_network import MLPClassifier"
   ]
  },
  {
   "attachments": {},
   "cell_type": "markdown",
   "metadata": {},
   "source": [
    "Descargamos los datos de la tasa de cambio USD/UYU (peso uruguayo) de yahoo finance desde el 2018-09-01 hasta el 2023-09-01. Utilizamos la librería ``ta`` para crear indicadores de media exponencial (EMA) de 5, 20, 50 y 100 días, y dividimos sobre el precio de cierre (Close). "
   ]
  },
  {
   "cell_type": "code",
   "execution_count": 2,
   "metadata": {},
   "outputs": [
    {
     "name": "stdout",
     "output_type": "stream",
     "text": [
      "[*********************100%***********************]  1 of 1 completed\n"
     ]
    },
    {
     "data": {
      "text/html": [
       "<div>\n",
       "<style scoped>\n",
       "    .dataframe tbody tr th:only-of-type {\n",
       "        vertical-align: middle;\n",
       "    }\n",
       "\n",
       "    .dataframe tbody tr th {\n",
       "        vertical-align: top;\n",
       "    }\n",
       "\n",
       "    .dataframe thead th {\n",
       "        text-align: right;\n",
       "    }\n",
       "</style>\n",
       "<table border=\"1\" class=\"dataframe\">\n",
       "  <thead>\n",
       "    <tr style=\"text-align: right;\">\n",
       "      <th></th>\n",
       "      <th>Open</th>\n",
       "      <th>High</th>\n",
       "      <th>Low</th>\n",
       "      <th>Close</th>\n",
       "      <th>Adj Close</th>\n",
       "      <th>Volume</th>\n",
       "      <th>EMA_5</th>\n",
       "      <th>EMA_20</th>\n",
       "      <th>EMA_50</th>\n",
       "      <th>EMA_100</th>\n",
       "    </tr>\n",
       "    <tr>\n",
       "      <th>Date</th>\n",
       "      <th></th>\n",
       "      <th></th>\n",
       "      <th></th>\n",
       "      <th></th>\n",
       "      <th></th>\n",
       "      <th></th>\n",
       "      <th></th>\n",
       "      <th></th>\n",
       "      <th></th>\n",
       "      <th></th>\n",
       "    </tr>\n",
       "  </thead>\n",
       "  <tbody>\n",
       "    <tr>\n",
       "      <th>2018-09-03</th>\n",
       "      <td>31.686001</td>\n",
       "      <td>32.119999</td>\n",
       "      <td>31.686001</td>\n",
       "      <td>31.930000</td>\n",
       "      <td>31.930000</td>\n",
       "      <td>0</td>\n",
       "      <td>1.000000</td>\n",
       "      <td>1.000000</td>\n",
       "      <td>1.000000</td>\n",
       "      <td>1.000000</td>\n",
       "    </tr>\n",
       "    <tr>\n",
       "      <th>2018-09-04</th>\n",
       "      <td>31.704000</td>\n",
       "      <td>32.130001</td>\n",
       "      <td>31.704000</td>\n",
       "      <td>32.119999</td>\n",
       "      <td>32.119999</td>\n",
       "      <td>0</td>\n",
       "      <td>0.996056</td>\n",
       "      <td>0.994648</td>\n",
       "      <td>0.994317</td>\n",
       "      <td>0.994202</td>\n",
       "    </tr>\n",
       "    <tr>\n",
       "      <th>2018-09-05</th>\n",
       "      <td>31.622999</td>\n",
       "      <td>32.360001</td>\n",
       "      <td>31.622999</td>\n",
       "      <td>32.130001</td>\n",
       "      <td>32.130001</td>\n",
       "      <td>0</td>\n",
       "      <td>0.997164</td>\n",
       "      <td>0.994878</td>\n",
       "      <td>0.994242</td>\n",
       "      <td>0.994013</td>\n",
       "    </tr>\n",
       "    <tr>\n",
       "      <th>2018-09-06</th>\n",
       "      <td>31.834000</td>\n",
       "      <td>32.360001</td>\n",
       "      <td>31.834000</td>\n",
       "      <td>32.360001</td>\n",
       "      <td>32.360001</td>\n",
       "      <td>0</td>\n",
       "      <td>0.993385</td>\n",
       "      <td>0.988968</td>\n",
       "      <td>0.987678</td>\n",
       "      <td>0.987207</td>\n",
       "    </tr>\n",
       "    <tr>\n",
       "      <th>2018-09-07</th>\n",
       "      <td>31.971001</td>\n",
       "      <td>32.770000</td>\n",
       "      <td>31.971001</td>\n",
       "      <td>32.360001</td>\n",
       "      <td>32.360001</td>\n",
       "      <td>0</td>\n",
       "      <td>0.995590</td>\n",
       "      <td>0.990018</td>\n",
       "      <td>0.988162</td>\n",
       "      <td>0.987460</td>\n",
       "    </tr>\n",
       "    <tr>\n",
       "      <th>...</th>\n",
       "      <td>...</td>\n",
       "      <td>...</td>\n",
       "      <td>...</td>\n",
       "      <td>...</td>\n",
       "      <td>...</td>\n",
       "      <td>...</td>\n",
       "      <td>...</td>\n",
       "      <td>...</td>\n",
       "      <td>...</td>\n",
       "      <td>...</td>\n",
       "    </tr>\n",
       "    <tr>\n",
       "      <th>2023-08-25</th>\n",
       "      <td>37.500404</td>\n",
       "      <td>37.500404</td>\n",
       "      <td>37.146690</td>\n",
       "      <td>37.290882</td>\n",
       "      <td>37.290882</td>\n",
       "      <td>0</td>\n",
       "      <td>1.001030</td>\n",
       "      <td>1.002798</td>\n",
       "      <td>1.005320</td>\n",
       "      <td>1.012443</td>\n",
       "    </tr>\n",
       "    <tr>\n",
       "      <th>2023-08-28</th>\n",
       "      <td>37.175583</td>\n",
       "      <td>37.175583</td>\n",
       "      <td>37.157803</td>\n",
       "      <td>37.187977</td>\n",
       "      <td>37.187977</td>\n",
       "      <td>0</td>\n",
       "      <td>1.002534</td>\n",
       "      <td>1.005042</td>\n",
       "      <td>1.007784</td>\n",
       "      <td>1.014942</td>\n",
       "    </tr>\n",
       "    <tr>\n",
       "      <th>2023-08-29</th>\n",
       "      <td>37.111629</td>\n",
       "      <td>37.144798</td>\n",
       "      <td>37.111629</td>\n",
       "      <td>37.157803</td>\n",
       "      <td>37.157803</td>\n",
       "      <td>0</td>\n",
       "      <td>1.002232</td>\n",
       "      <td>1.005300</td>\n",
       "      <td>1.008265</td>\n",
       "      <td>1.015454</td>\n",
       "    </tr>\n",
       "    <tr>\n",
       "      <th>2023-08-30</th>\n",
       "      <td>37.188660</td>\n",
       "      <td>37.188660</td>\n",
       "      <td>37.188660</td>\n",
       "      <td>37.144798</td>\n",
       "      <td>37.144798</td>\n",
       "      <td>0</td>\n",
       "      <td>1.001722</td>\n",
       "      <td>1.005114</td>\n",
       "      <td>1.008280</td>\n",
       "      <td>1.015497</td>\n",
       "    </tr>\n",
       "    <tr>\n",
       "      <th>2023-08-31</th>\n",
       "      <td>37.016373</td>\n",
       "      <td>37.259827</td>\n",
       "      <td>37.016373</td>\n",
       "      <td>37.188660</td>\n",
       "      <td>37.188660</td>\n",
       "      <td>0</td>\n",
       "      <td>1.000360</td>\n",
       "      <td>1.003554</td>\n",
       "      <td>1.006813</td>\n",
       "      <td>1.014016</td>\n",
       "    </tr>\n",
       "  </tbody>\n",
       "</table>\n",
       "<p>1303 rows × 10 columns</p>\n",
       "</div>"
      ],
      "text/plain": [
       "                 Open       High        Low      Close  Adj Close  Volume   \n",
       "Date                                                                        \n",
       "2018-09-03  31.686001  32.119999  31.686001  31.930000  31.930000       0  \\\n",
       "2018-09-04  31.704000  32.130001  31.704000  32.119999  32.119999       0   \n",
       "2018-09-05  31.622999  32.360001  31.622999  32.130001  32.130001       0   \n",
       "2018-09-06  31.834000  32.360001  31.834000  32.360001  32.360001       0   \n",
       "2018-09-07  31.971001  32.770000  31.971001  32.360001  32.360001       0   \n",
       "...               ...        ...        ...        ...        ...     ...   \n",
       "2023-08-25  37.500404  37.500404  37.146690  37.290882  37.290882       0   \n",
       "2023-08-28  37.175583  37.175583  37.157803  37.187977  37.187977       0   \n",
       "2023-08-29  37.111629  37.144798  37.111629  37.157803  37.157803       0   \n",
       "2023-08-30  37.188660  37.188660  37.188660  37.144798  37.144798       0   \n",
       "2023-08-31  37.016373  37.259827  37.016373  37.188660  37.188660       0   \n",
       "\n",
       "               EMA_5    EMA_20    EMA_50   EMA_100  \n",
       "Date                                                \n",
       "2018-09-03  1.000000  1.000000  1.000000  1.000000  \n",
       "2018-09-04  0.996056  0.994648  0.994317  0.994202  \n",
       "2018-09-05  0.997164  0.994878  0.994242  0.994013  \n",
       "2018-09-06  0.993385  0.988968  0.987678  0.987207  \n",
       "2018-09-07  0.995590  0.990018  0.988162  0.987460  \n",
       "...              ...       ...       ...       ...  \n",
       "2023-08-25  1.001030  1.002798  1.005320  1.012443  \n",
       "2023-08-28  1.002534  1.005042  1.007784  1.014942  \n",
       "2023-08-29  1.002232  1.005300  1.008265  1.015454  \n",
       "2023-08-30  1.001722  1.005114  1.008280  1.015497  \n",
       "2023-08-31  1.000360  1.003554  1.006813  1.014016  \n",
       "\n",
       "[1303 rows x 10 columns]"
      ]
     },
     "execution_count": 2,
     "metadata": {},
     "output_type": "execute_result"
    }
   ],
   "source": [
    "# Fechas a usar\n",
    "start = '2018-09-01'\n",
    "end = '2023-09-01'\n",
    "\n",
    "# Descargamos datos de USD-UYU\n",
    "df = yfin.download('UYU=X',start=start, end=end) \n",
    "df['EMA_5'] = ta.trend.ema_indicator(close=df[\"Close\"], window=5, fillna=True)/df[\"Close\"] \n",
    "df['EMA_20'] = ta.trend.ema_indicator(close=df[\"Close\"], window=20, fillna=True)/df[\"Close\"] \n",
    "df['EMA_50'] = ta.trend.ema_indicator(close=df[\"Close\"], window=50, fillna=True)/df[\"Close\"] \n",
    "df['EMA_100'] = ta.trend.ema_indicator(close=df[\"Close\"], window=100, fillna=True)/df[\"Close\"] \n",
    "df "
   ]
  },
  {
   "cell_type": "markdown",
   "metadata": {},
   "source": [
    "1. ¿Cuál es el último valor de la media móvil exponencial de 100 días sobre el precio de cierre?"
   ]
  },
  {
   "cell_type": "code",
   "execution_count": 3,
   "metadata": {},
   "outputs": [
    {
     "name": "stdout",
     "output_type": "stream",
     "text": [
      "Resp: 1.014\n"
     ]
    }
   ],
   "source": [
    "print(f'Resp: {df[\"EMA_100\"][-1]:.3f}')"
   ]
  },
  {
   "attachments": {},
   "cell_type": "markdown",
   "metadata": {},
   "source": [
    "Utiliza la librería ta para crear el indicador RSI, ATR y Wiiliams r."
   ]
  },
  {
   "cell_type": "code",
   "execution_count": 4,
   "metadata": {},
   "outputs": [
    {
     "data": {
      "text/html": [
       "<div>\n",
       "<style scoped>\n",
       "    .dataframe tbody tr th:only-of-type {\n",
       "        vertical-align: middle;\n",
       "    }\n",
       "\n",
       "    .dataframe tbody tr th {\n",
       "        vertical-align: top;\n",
       "    }\n",
       "\n",
       "    .dataframe thead th {\n",
       "        text-align: right;\n",
       "    }\n",
       "</style>\n",
       "<table border=\"1\" class=\"dataframe\">\n",
       "  <thead>\n",
       "    <tr style=\"text-align: right;\">\n",
       "      <th></th>\n",
       "      <th>Open</th>\n",
       "      <th>High</th>\n",
       "      <th>Low</th>\n",
       "      <th>Close</th>\n",
       "      <th>Adj Close</th>\n",
       "      <th>Volume</th>\n",
       "      <th>EMA_5</th>\n",
       "      <th>EMA_20</th>\n",
       "      <th>EMA_50</th>\n",
       "      <th>EMA_100</th>\n",
       "      <th>RSI</th>\n",
       "      <th>ATR</th>\n",
       "      <th>WR</th>\n",
       "    </tr>\n",
       "    <tr>\n",
       "      <th>Date</th>\n",
       "      <th></th>\n",
       "      <th></th>\n",
       "      <th></th>\n",
       "      <th></th>\n",
       "      <th></th>\n",
       "      <th></th>\n",
       "      <th></th>\n",
       "      <th></th>\n",
       "      <th></th>\n",
       "      <th></th>\n",
       "      <th></th>\n",
       "      <th></th>\n",
       "      <th></th>\n",
       "    </tr>\n",
       "  </thead>\n",
       "  <tbody>\n",
       "    <tr>\n",
       "      <th>2018-09-03</th>\n",
       "      <td>31.686001</td>\n",
       "      <td>32.119999</td>\n",
       "      <td>31.686001</td>\n",
       "      <td>31.930000</td>\n",
       "      <td>31.930000</td>\n",
       "      <td>0</td>\n",
       "      <td>1.000000</td>\n",
       "      <td>1.000000</td>\n",
       "      <td>1.000000</td>\n",
       "      <td>1.000000</td>\n",
       "      <td>100.000000</td>\n",
       "      <td>0.000000</td>\n",
       "      <td>-43.778676</td>\n",
       "    </tr>\n",
       "    <tr>\n",
       "      <th>2018-09-04</th>\n",
       "      <td>31.704000</td>\n",
       "      <td>32.130001</td>\n",
       "      <td>31.704000</td>\n",
       "      <td>32.119999</td>\n",
       "      <td>32.119999</td>\n",
       "      <td>0</td>\n",
       "      <td>0.996056</td>\n",
       "      <td>0.994648</td>\n",
       "      <td>0.994317</td>\n",
       "      <td>0.994202</td>\n",
       "      <td>100.000000</td>\n",
       "      <td>0.000000</td>\n",
       "      <td>-2.252732</td>\n",
       "    </tr>\n",
       "    <tr>\n",
       "      <th>2018-09-05</th>\n",
       "      <td>31.622999</td>\n",
       "      <td>32.360001</td>\n",
       "      <td>31.622999</td>\n",
       "      <td>32.130001</td>\n",
       "      <td>32.130001</td>\n",
       "      <td>0</td>\n",
       "      <td>0.997164</td>\n",
       "      <td>0.994878</td>\n",
       "      <td>0.994242</td>\n",
       "      <td>0.994013</td>\n",
       "      <td>100.000000</td>\n",
       "      <td>0.000000</td>\n",
       "      <td>-31.207476</td>\n",
       "    </tr>\n",
       "    <tr>\n",
       "      <th>2018-09-06</th>\n",
       "      <td>31.834000</td>\n",
       "      <td>32.360001</td>\n",
       "      <td>31.834000</td>\n",
       "      <td>32.360001</td>\n",
       "      <td>32.360001</td>\n",
       "      <td>0</td>\n",
       "      <td>0.993385</td>\n",
       "      <td>0.988968</td>\n",
       "      <td>0.987678</td>\n",
       "      <td>0.987207</td>\n",
       "      <td>100.000000</td>\n",
       "      <td>0.000000</td>\n",
       "      <td>-0.000000</td>\n",
       "    </tr>\n",
       "    <tr>\n",
       "      <th>2018-09-07</th>\n",
       "      <td>31.971001</td>\n",
       "      <td>32.770000</td>\n",
       "      <td>31.971001</td>\n",
       "      <td>32.360001</td>\n",
       "      <td>32.360001</td>\n",
       "      <td>0</td>\n",
       "      <td>0.995590</td>\n",
       "      <td>0.990018</td>\n",
       "      <td>0.988162</td>\n",
       "      <td>0.987460</td>\n",
       "      <td>100.000000</td>\n",
       "      <td>0.000000</td>\n",
       "      <td>-35.745370</td>\n",
       "    </tr>\n",
       "    <tr>\n",
       "      <th>...</th>\n",
       "      <td>...</td>\n",
       "      <td>...</td>\n",
       "      <td>...</td>\n",
       "      <td>...</td>\n",
       "      <td>...</td>\n",
       "      <td>...</td>\n",
       "      <td>...</td>\n",
       "      <td>...</td>\n",
       "      <td>...</td>\n",
       "      <td>...</td>\n",
       "      <td>...</td>\n",
       "      <td>...</td>\n",
       "      <td>...</td>\n",
       "    </tr>\n",
       "    <tr>\n",
       "      <th>2023-08-25</th>\n",
       "      <td>37.500404</td>\n",
       "      <td>37.500404</td>\n",
       "      <td>37.146690</td>\n",
       "      <td>37.290882</td>\n",
       "      <td>37.290882</td>\n",
       "      <td>0</td>\n",
       "      <td>1.001030</td>\n",
       "      <td>1.002798</td>\n",
       "      <td>1.005320</td>\n",
       "      <td>1.012443</td>\n",
       "      <td>47.645189</td>\n",
       "      <td>0.384768</td>\n",
       "      <td>-79.157550</td>\n",
       "    </tr>\n",
       "    <tr>\n",
       "      <th>2023-08-28</th>\n",
       "      <td>37.175583</td>\n",
       "      <td>37.175583</td>\n",
       "      <td>37.157803</td>\n",
       "      <td>37.187977</td>\n",
       "      <td>37.187977</td>\n",
       "      <td>0</td>\n",
       "      <td>1.002534</td>\n",
       "      <td>1.005042</td>\n",
       "      <td>1.007784</td>\n",
       "      <td>1.014942</td>\n",
       "      <td>45.680120</td>\n",
       "      <td>0.366790</td>\n",
       "      <td>-88.723948</td>\n",
       "    </tr>\n",
       "    <tr>\n",
       "      <th>2023-08-29</th>\n",
       "      <td>37.111629</td>\n",
       "      <td>37.144798</td>\n",
       "      <td>37.111629</td>\n",
       "      <td>37.157803</td>\n",
       "      <td>37.157803</td>\n",
       "      <td>0</td>\n",
       "      <td>1.002232</td>\n",
       "      <td>1.005300</td>\n",
       "      <td>1.008265</td>\n",
       "      <td>1.015454</td>\n",
       "      <td>45.092834</td>\n",
       "      <td>0.346044</td>\n",
       "      <td>-91.529042</td>\n",
       "    </tr>\n",
       "    <tr>\n",
       "      <th>2023-08-30</th>\n",
       "      <td>37.188660</td>\n",
       "      <td>37.188660</td>\n",
       "      <td>37.188660</td>\n",
       "      <td>37.144798</td>\n",
       "      <td>37.144798</td>\n",
       "      <td>0</td>\n",
       "      <td>1.001722</td>\n",
       "      <td>1.005114</td>\n",
       "      <td>1.008280</td>\n",
       "      <td>1.015497</td>\n",
       "      <td>44.825360</td>\n",
       "      <td>0.323531</td>\n",
       "      <td>-92.737963</td>\n",
       "    </tr>\n",
       "    <tr>\n",
       "      <th>2023-08-31</th>\n",
       "      <td>37.016373</td>\n",
       "      <td>37.259827</td>\n",
       "      <td>37.016373</td>\n",
       "      <td>37.188660</td>\n",
       "      <td>37.188660</td>\n",
       "      <td>0</td>\n",
       "      <td>1.000360</td>\n",
       "      <td>1.003554</td>\n",
       "      <td>1.006813</td>\n",
       "      <td>1.014016</td>\n",
       "      <td>45.989046</td>\n",
       "      <td>0.317811</td>\n",
       "      <td>-84.699246</td>\n",
       "    </tr>\n",
       "  </tbody>\n",
       "</table>\n",
       "<p>1303 rows × 13 columns</p>\n",
       "</div>"
      ],
      "text/plain": [
       "                 Open       High        Low      Close  Adj Close  Volume   \n",
       "Date                                                                        \n",
       "2018-09-03  31.686001  32.119999  31.686001  31.930000  31.930000       0  \\\n",
       "2018-09-04  31.704000  32.130001  31.704000  32.119999  32.119999       0   \n",
       "2018-09-05  31.622999  32.360001  31.622999  32.130001  32.130001       0   \n",
       "2018-09-06  31.834000  32.360001  31.834000  32.360001  32.360001       0   \n",
       "2018-09-07  31.971001  32.770000  31.971001  32.360001  32.360001       0   \n",
       "...               ...        ...        ...        ...        ...     ...   \n",
       "2023-08-25  37.500404  37.500404  37.146690  37.290882  37.290882       0   \n",
       "2023-08-28  37.175583  37.175583  37.157803  37.187977  37.187977       0   \n",
       "2023-08-29  37.111629  37.144798  37.111629  37.157803  37.157803       0   \n",
       "2023-08-30  37.188660  37.188660  37.188660  37.144798  37.144798       0   \n",
       "2023-08-31  37.016373  37.259827  37.016373  37.188660  37.188660       0   \n",
       "\n",
       "               EMA_5    EMA_20    EMA_50   EMA_100         RSI       ATR   \n",
       "Date                                                                       \n",
       "2018-09-03  1.000000  1.000000  1.000000  1.000000  100.000000  0.000000  \\\n",
       "2018-09-04  0.996056  0.994648  0.994317  0.994202  100.000000  0.000000   \n",
       "2018-09-05  0.997164  0.994878  0.994242  0.994013  100.000000  0.000000   \n",
       "2018-09-06  0.993385  0.988968  0.987678  0.987207  100.000000  0.000000   \n",
       "2018-09-07  0.995590  0.990018  0.988162  0.987460  100.000000  0.000000   \n",
       "...              ...       ...       ...       ...         ...       ...   \n",
       "2023-08-25  1.001030  1.002798  1.005320  1.012443   47.645189  0.384768   \n",
       "2023-08-28  1.002534  1.005042  1.007784  1.014942   45.680120  0.366790   \n",
       "2023-08-29  1.002232  1.005300  1.008265  1.015454   45.092834  0.346044   \n",
       "2023-08-30  1.001722  1.005114  1.008280  1.015497   44.825360  0.323531   \n",
       "2023-08-31  1.000360  1.003554  1.006813  1.014016   45.989046  0.317811   \n",
       "\n",
       "                   WR  \n",
       "Date                   \n",
       "2018-09-03 -43.778676  \n",
       "2018-09-04  -2.252732  \n",
       "2018-09-05 -31.207476  \n",
       "2018-09-06  -0.000000  \n",
       "2018-09-07 -35.745370  \n",
       "...               ...  \n",
       "2023-08-25 -79.157550  \n",
       "2023-08-28 -88.723948  \n",
       "2023-08-29 -91.529042  \n",
       "2023-08-30 -92.737963  \n",
       "2023-08-31 -84.699246  \n",
       "\n",
       "[1303 rows x 13 columns]"
      ]
     },
     "execution_count": 4,
     "metadata": {},
     "output_type": "execute_result"
    }
   ],
   "source": [
    "# RSI\n",
    "df['RSI'] = ta.momentum.rsi(close=df[\"Close\"], fillna=True) \n",
    "# ATR\n",
    "df['ATR'] = ta.volatility.average_true_range(high=df[\"High\"], low=df[\"Low\"], close=df[\"Close\"], fillna=True) \n",
    "# WR\n",
    "df['WR'] = ta.momentum.williams_r(high=df[\"High\"], low=df[\"Low\"], close=df[\"Close\"], fillna=True) \n",
    "df "
   ]
  },
  {
   "cell_type": "markdown",
   "metadata": {},
   "source": [
    "2. ¿Cuál es el último valor del RSI? "
   ]
  },
  {
   "cell_type": "code",
   "execution_count": 5,
   "metadata": {},
   "outputs": [
    {
     "name": "stdout",
     "output_type": "stream",
     "text": [
      "Resp: 45.989\n"
     ]
    }
   ],
   "source": [
    "print(f'Resp: {df[\"RSI\"][-1]:.3f}')"
   ]
  },
  {
   "attachments": {},
   "cell_type": "markdown",
   "metadata": {},
   "source": [
    "Crea el target (1 si el precio de cierre (Close) sube el día siguiente, -1 si baja) y añádelo como columna a la base de datos. Elimine las primeras 29 filas de la base de datos para no tener información faltante y el último dato ya que no sabemos el target de este día."
   ]
  },
  {
   "cell_type": "code",
   "execution_count": 7,
   "metadata": {},
   "outputs": [],
   "source": [
    "# Crea el Target (1 si el precio sube el día siguiente, -1 si baja) \n",
    "target = np.where(np.array(df['Close'][1:]) > np.array(df['Close'][:-1]), 1, -1) \n",
    "# Elimina el último día para el que no tenemos info del precio el día siguiente. \n",
    "df.drop(df.tail(1).index, inplace=True) \n",
    "# Creamos la columna target \n",
    "df['Target'] = target \n",
    "# Elimina los primeros 29 días dónde los indicadores técnicos no tienen suficiente info \n",
    "df.drop(df.head(29).index, inplace=True) "
   ]
  },
  {
   "cell_type": "markdown",
   "metadata": {},
   "source": [
    "3. ¿Cuántos días tienen un target de 1? "
   ]
  },
  {
   "cell_type": "code",
   "execution_count": 8,
   "metadata": {},
   "outputs": [
    {
     "name": "stdout",
     "output_type": "stream",
     "text": [
      "Resp 3: 610\n"
     ]
    }
   ],
   "source": [
    "print(f\"Resp 3: {df.Target[df.Target==1].count()}\")"
   ]
  },
  {
   "attachments": {},
   "cell_type": "markdown",
   "metadata": {},
   "source": [
    "Crea tus bases “X” y “y” donde X contiene todas las variables explicativas (todas menos el target) y y contiene la variable de respuesta (target). Utiliza la función train_test_split de la librería sklearn para dividir tu base de datos en entrenamiento (train) y prueba (test), donde el 30% de tus datos sean de prueba (test). Recuerda que la base de prueba tiene que contener datos posteriores a la de entrenamiento."
   ]
  },
  {
   "cell_type": "code",
   "execution_count": 9,
   "metadata": {},
   "outputs": [],
   "source": [
    "# Divida el conjunto de datos en una característica o un conjunto de datos independiente (X) \n",
    "# y un destino o conjunto de datos dependiente (Y) \n",
    "X = df.drop('Target',axis=1) \n",
    "Y = df.Target \n",
    "# Vuelva a dividir los datos, pero esta vez en 90% de entrenamiento y 10% de prueba. \n",
    "X_train, X_test, Y_train, Y_test = train_test_split(X, Y, test_size = 0.3, shuffle=False) "
   ]
  },
  {
   "cell_type": "markdown",
   "metadata": {},
   "source": [
    "4. ¿Cuál es la dimensión de la base de datos de prueba? "
   ]
  },
  {
   "cell_type": "code",
   "execution_count": 12,
   "metadata": {},
   "outputs": [
    {
     "name": "stdout",
     "output_type": "stream",
     "text": [
      "Resp: filas 891, columnas 13\n"
     ]
    }
   ],
   "source": [
    "print(f'Resp: filas {X_train.shape[0]}, columnas {X_train.shape[1]}') "
   ]
  },
  {
   "attachments": {},
   "cell_type": "markdown",
   "metadata": {},
   "source": [
    "Estandariza tus bases de datos de entrenamiento y prueba que contienen las variables explicativas."
   ]
  },
  {
   "cell_type": "code",
   "execution_count": 13,
   "metadata": {},
   "outputs": [],
   "source": [
    "#Standardization \n",
    "ss = StandardScaler() \n",
    "X_train = ss.fit_transform(X_train) \n",
    "X_test = ss.fit_transform(X_test) "
   ]
  },
  {
   "cell_type": "markdown",
   "metadata": {},
   "source": [
    "5. ¿Cuál es la media de la base de datos de entrenamiento? "
   ]
  },
  {
   "cell_type": "code",
   "execution_count": 14,
   "metadata": {},
   "outputs": [
    {
     "name": "stdout",
     "output_type": "stream",
     "text": [
      "Resp: -2.8708797404448495e-16\n"
     ]
    }
   ],
   "source": [
    "print(f\"Resp: {X_train.mean()}\")"
   ]
  },
  {
   "attachments": {},
   "cell_type": "markdown",
   "metadata": {},
   "source": [
    "Utilice una máquina de soporte vectorial de clasificación (SVC) con kernerl rbf y añada el parámetro random_state=1 para ajustar la base de entrenamiento y haga la predicción con la base de prueba."
   ]
  },
  {
   "cell_type": "code",
   "execution_count": 28,
   "metadata": {},
   "outputs": [
    {
     "data": {
      "image/png": "[encoded data removed]",
      "text/plain": [
       "<Figure size 640x480 with 1 Axes>"
      ]
     },
     "metadata": {},
     "output_type": "display_data"
    }
   ],
   "source": [
    "# Soporte vectorial de clasificación (SVC) con kernerl rbf\n",
    "svc = SVC(kernel='rbf',random_state=1) \n",
    "# Entrenar el modelo de SVC\n",
    "svc = svc.fit(X_train, Y_train) \n",
    "# Curva ROC\n",
    "roc_svc = RocCurveDisplay.from_estimator(svc, X_test, Y_test) "
   ]
  },
  {
   "cell_type": "markdown",
   "metadata": {},
   "source": [
    "6. ¿Cuál es el valor del AUC? "
   ]
  },
  {
   "cell_type": "code",
   "execution_count": 29,
   "metadata": {},
   "outputs": [
    {
     "name": "stdout",
     "output_type": "stream",
     "text": [
      "Resp: 0.601\n"
     ]
    }
   ],
   "source": [
    "auc = roc_svc.roc_auc\n",
    "print(f\"Resp: {auc:.3f}\")"
   ]
  },
  {
   "attachments": {},
   "cell_type": "markdown",
   "metadata": {},
   "source": [
    "Utilice un random forest classifier (RandomForestClassifier) y añada el parámetro random_state=1 para ajustar la base de entrenamiento, haga la predicción con la base de prueba."
   ]
  },
  {
   "cell_type": "code",
   "execution_count": 22,
   "metadata": {},
   "outputs": [
    {
     "data": {
      "image/png": "[encoded data removed]",
      "text/plain": [
       "<Figure size 640x480 with 1 Axes>"
      ]
     },
     "metadata": {},
     "output_type": "display_data"
    }
   ],
   "source": [
    "# Crear el modelo clasificador de Random Forest \n",
    "rfc = RandomForestClassifier(random_state=1) \n",
    "# Entrenar el modelo de Random Forest \n",
    "rfc = rfc.fit(X_train, Y_train) \n",
    "# Curva ROC \n",
    "roc_rfc = RocCurveDisplay.from_estimator(rfc, X_test, Y_test) "
   ]
  },
  {
   "cell_type": "markdown",
   "metadata": {},
   "source": [
    "7. ¿Cuál es el valor del AUC? "
   ]
  },
  {
   "cell_type": "code",
   "execution_count": 24,
   "metadata": {},
   "outputs": [
    {
     "name": "stdout",
     "output_type": "stream",
     "text": [
      "Resp: 0.605\n"
     ]
    }
   ],
   "source": [
    "auc = roc_rfc.roc_auc\n",
    "print(f\"Resp: {auc:.3f}\")"
   ]
  },
  {
   "attachments": {},
   "cell_type": "markdown",
   "metadata": {},
   "source": [
    "Utilice una red neuronal MLP de clasificación (MLPClassifier) con los siguientes parámetros: \n",
    "\n",
    "``solver='adam', hidden_layer_sizes=(32,16), max_iter=1000, random_state=1 ``\n",
    "\n",
    "para ajustar la base de entrenamiento, haga la predicción con la base de prueba."
   ]
  },
  {
   "cell_type": "code",
   "execution_count": 25,
   "metadata": {},
   "outputs": [
    {
     "name": "stderr",
     "output_type": "stream",
     "text": [
      "c:\\Users\\lasm1\\OneDrive\\Escritorio\\DS\\Finanzas\\finanzas\\Lib\\site-packages\\sklearn\\neural_network\\_multilayer_perceptron.py:686: ConvergenceWarning: Stochastic Optimizer: Maximum iterations (1000) reached and the optimization hasn't converged yet.\n",
      "  warnings.warn(\n"
     ]
    },
    {
     "data": {
      "image/png": "[encoded data removed]",
      "text/plain": [
       "<Figure size 640x480 with 1 Axes>"
      ]
     },
     "metadata": {},
     "output_type": "display_data"
    }
   ],
   "source": [
    "# Crear el modelo clasificador de Redes Neuronales \n",
    "mlp = MLPClassifier(solver='adam', hidden_layer_sizes=(32,16), max_iter=1000,random_state=1) \n",
    "# Entrenar el modelo de Redes Neuronales \n",
    "mlp = mlp.fit(X_train, Y_train) \n",
    "# Curva ROC\n",
    "roc_mpl = RocCurveDisplay.from_estimator(mlp, X_test, Y_test) "
   ]
  },
  {
   "cell_type": "markdown",
   "metadata": {},
   "source": [
    "8. ¿Cuál es el valor del AUC? "
   ]
  },
  {
   "cell_type": "code",
   "execution_count": 26,
   "metadata": {},
   "outputs": [
    {
     "name": "stdout",
     "output_type": "stream",
     "text": [
      "Resp: 0.780\n"
     ]
    }
   ],
   "source": [
    "auc = roc_mpl.roc_auc\n",
    "print(f\"Resp: {auc:.3f}\")"
   ]
  },
  {
   "attachments": {},
   "cell_type": "markdown",
   "metadata": {},
   "source": [
    "9. Basado únicamente en el AUC, ¿qué modelo utilizaría? "
   ]
  },
  {
   "cell_type": "code",
   "execution_count": 44,
   "metadata": {},
   "outputs": [
    {
     "name": "stdout",
     "output_type": "stream",
     "text": [
      "El mejor modelo fue REDES NEURONALES con un valor auc de: 0.780\n"
     ]
    }
   ],
   "source": [
    "resultados = {'Soporte vectorial': roc_svc.roc_auc, 'Bosque Aleatorio': roc_rfc.roc_auc, 'Redes Neuronales':roc_mpl.roc_auc}\n",
    "max_key, max_value = max(resultados.items(), key=lambda x: x[1])\n",
    "print(f'El mejor modelo fue {max_key.upper()} con un valor auc de: {max_value:.3f}')"
   ]
  }
 ],
 "metadata": {
  "kernelspec": {
   "display_name": "base",
   "language": "python",
   "name": "python3"
  },
  "language_info": {
   "codemirror_mode": {
    "name": "ipython",
    "version": 3
   },
   "file_extension": ".py",
   "mimetype": "text/x-python",
   "name": "python",
   "nbconvert_exporter": "python",
   "pygments_lexer": "ipython3",
   "version": "3.11.1"
  },
  "orig_nbformat": 4
 },
 "nbformat": 4,
 "nbformat_minor": 2
}
